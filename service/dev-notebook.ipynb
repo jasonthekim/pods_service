{
 "cells": [
  {
   "cell_type": "markdown",
   "id": "7a556778-0fb0-4653-ac39-ed5f6fabe537",
   "metadata": {
    "tags": []
   },
   "source": [
    "## KG Service\n",
    "This should be ran inside of the kg-main pod. Please check repo docs to get a Dev Container working.  \n",
    "Note: Switch host/port/env stuff if you decide to run this elsewhere"
   ]
  },
  {
   "cell_type": "code",
   "execution_count": null,
   "id": "a65861f1-9d4f-4dd3-abf9-a21da471ec1d",
   "metadata": {
    "tags": []
   },
   "outputs": [],
   "source": [
    "# Sets autoreload of imports to on so that changes in code will immediately show up here.\n",
    "%load_ext autoreload\n",
    "%autoreload 2\n",
    "\n",
    "import requests as r\n",
    "import pprint as pp\n",
    "import json\n",
    "import datetime    \n",
    "import re\n",
    "from stores import pg_store\n",
    "from typing import List, Dict, Literal\n",
    "from pydantic import BaseModel, Field, validator\n",
    "import time\n",
    "from tapipy.tapis import Tapis\n",
    "from getpass import getpass\n",
    "import pytz\n",
    "        \n",
    "def show(res):\n",
    "    try:\n",
    "        pp.pprint(res.json(), width=120) \n",
    "    except:\n",
    "        pp.pprint(res.status_code)\n",
    "        pp.pprint(res.text, width=120)"
   ]
  },
  {
   "cell_type": "code",
   "execution_count": null,
   "id": "104701a5-c98c-4a79-9e8b-881ea74561f2",
   "metadata": {
    "tags": []
   },
   "outputs": [],
   "source": [
    "# Create Tapis object and create header_dat\n",
    "start = time.time()\n",
    "\n",
    "# Base URL for Tapis\n",
    "base_url = \"https://tacc.develop.tapis.io\"\n",
    "username = \"cgarcia\"\n",
    "\n",
    "# Get Tapis object if it isn't already created.\n",
    "try:\n",
    "    t\n",
    "    if t.base_url == base_url and t.username == username and t.access_token:\n",
    "        print(\"Tapis object already exists.\")\n",
    "        if t.access_token.expires_at < datetime.datetime.now(pytz.utc):\n",
    "            print(\"Existing Tapis token expired, getting new token.\")\n",
    "            raise\n",
    "    else:\n",
    "        print(\"Creating new Tapis object.\")\n",
    "        raise\n",
    "except:\n",
    "    print(\"Creating new Tapis object.\")\n",
    "    try:\n",
    "        t = Tapis(base_url = base_url,\n",
    "                  username = username,\n",
    "                  password = getpass('password'))\n",
    "        t.get_tokens()\n",
    "    except:\n",
    "        print(f\"\\nBROKEN! timeout: {time.time() - start}\\n\")\n",
    "        raise\n",
    "\n",
    "    \n",
    "# V3 Headers\n",
    "header_dat = {\"X-Tapis-token\": t.access_token.access_token,\n",
    "              \"Content-Type\": \"application/json\"}\n",
    "\n",
    "# Service URL\n",
    "url = None\n",
    "url = \"http://localhost:8000\" ## Local\n",
    "\n",
    "print(time.time() - start)\n",
    "print(f\"base_url: {base_url}\")\n",
    "print(f\"serv_url: {url}\")"
   ]
  },
  {
   "cell_type": "markdown",
   "id": "72d1938a-76b3-4070-b063-86cc409c4d85",
   "metadata": {},
   "source": [
    "## Endpoint Calls"
   ]
  },
  {
   "cell_type": "code",
   "execution_count": null,
   "id": "93b69673-053e-492e-b62e-60f0d302a71e",
   "metadata": {},
   "outputs": [],
   "source": [
    "## Get all pods\n",
    "res = r.get(f'{url}/pods',\n",
    "            headers=header_dat)\n",
    "show(res)"
   ]
  },
  {
   "cell_type": "code",
   "execution_count": null,
   "id": "bb14ca9d-4420-4bb6-8e91-03b39a972e6d",
   "metadata": {
    "tags": []
   },
   "outputs": [],
   "source": [
    "## Create a pod\n",
    "res = r.post('http://localhost:8000/pods',\n",
    "             data=json.dumps({\"pod_name\": \"pod_name_test\", \"description\": \"Just a test!\"}),\n",
    "             headers=header_dat)\n",
    "show(res)"
   ]
  },
  {
   "cell_type": "code",
   "execution_count": null,
   "id": "19b17831-dc52-4f42-aec0-60ad21331280",
   "metadata": {
    "tags": []
   },
   "outputs": [],
   "source": [
    "## Get particular pod\n",
    "res = r.get(f'{url}/pods/pod_name_test',\n",
    "            headers=header_dat)\n",
    "show(res)"
   ]
  },
  {
   "cell_type": "code",
   "execution_count": null,
   "id": "2dcc9cc6-278c-4378-a526-0732c8c2b408",
   "metadata": {},
   "outputs": [],
   "source": []
  },
  {
   "cell_type": "code",
   "execution_count": null,
   "id": "c16ddd88-734a-4f75-b866-9aa954e9d617",
   "metadata": {},
   "outputs": [],
   "source": []
  },
  {
   "cell_type": "markdown",
   "id": "74e7d950-22e3-4991-8f50-c3801f519025",
   "metadata": {},
   "source": [
    "## Mess with the models!"
   ]
  },
  {
   "cell_type": "code",
   "execution_count": null,
   "id": "c0090cfb-f6b7-43a8-80b0-12f2a053c809",
   "metadata": {},
   "outputs": [],
   "source": [
    "from models import Pod"
   ]
  },
  {
   "cell_type": "code",
   "execution_count": null,
   "id": "2a6fc369-c028-476a-a2d5-7f72dbb35d2a",
   "metadata": {},
   "outputs": [],
   "source": [
    "## Create a local Pod.\n",
    "mypod = Pod(pod_name='mypod')\n",
    "mypod"
   ]
  },
  {
   "cell_type": "code",
   "execution_count": null,
   "id": "430230a8-c52d-4cd0-a8d6-a78a5cd289bf",
   "metadata": {},
   "outputs": [],
   "source": [
    "## Commit a pod to database\n",
    "mypod.db_create()"
   ]
  },
  {
   "cell_type": "code",
   "execution_count": null,
   "id": "113d5ffa-2c15-4698-94d4-fa3c04d45f6c",
   "metadata": {},
   "outputs": [],
   "source": [
    "getmypod = Pod.db_get_with_pk(\"mypod\", tenant='tacc',site='tacc')\n",
    "getmypod"
   ]
  },
  {
   "cell_type": "code",
   "execution_count": null,
   "id": "7969a0a7-5381-4413-b30b-48233e9ef658",
   "metadata": {},
   "outputs": [],
   "source": []
  },
  {
   "cell_type": "code",
   "execution_count": null,
   "id": "73309561-33d1-4057-bd2e-72ef2d98aefb",
   "metadata": {},
   "outputs": [],
   "source": []
  },
  {
   "cell_type": "markdown",
   "id": "1d465df2-33e3-462b-9faf-5028fd1ceb5c",
   "metadata": {},
   "source": [
    "## Some kubernetes utils. Start a configured neo4j pod."
   ]
  },
  {
   "cell_type": "code",
   "execution_count": null,
   "id": "a5c556a2-92f8-4f4c-968f-229a5724fd0d",
   "metadata": {},
   "outputs": [],
   "source": [
    "from spawner import start_neo4j_pod\n",
    "from kubernetes_utils import get_current_k8_pods"
   ]
  },
  {
   "cell_type": "code",
   "execution_count": null,
   "id": "ed86ff8e-a362-4904-90ce-a661526468a6",
   "metadata": {},
   "outputs": [],
   "source": [
    "start_neo4j_pod(\"pod_name_here!\", revision=1)"
   ]
  },
  {
   "cell_type": "code",
   "execution_count": null,
   "id": "12d52c40-8e14-49ae-9a79-cd93ad6ef759",
   "metadata": {},
   "outputs": [],
   "source": [
    "get_current_k8_pods()"
   ]
  },
  {
   "cell_type": "code",
   "execution_count": null,
   "id": "e7c44338-dbdc-483f-baab-cd8123a0fa33",
   "metadata": {},
   "outputs": [],
   "source": []
  },
  {
   "cell_type": "code",
   "execution_count": null,
   "id": "9d80ea1d-628f-4acf-979a-5e002d8ee982",
   "metadata": {},
   "outputs": [],
   "source": []
  },
  {
   "cell_type": "markdown",
   "id": "aa92656a-7989-4641-8b61-6203377f1d6e",
   "metadata": {},
   "source": [
    "## Direct K8 client access."
   ]
  },
  {
   "cell_type": "code",
   "execution_count": null,
   "id": "a4863ffa-4ec2-424f-9d04-92c51ddc351b",
   "metadata": {},
   "outputs": [],
   "source": [
    "from kubernetes import client, config\n",
    "config.load_incluster_config()\n",
    "k8 = client.CoreV1Api()"
   ]
  },
  {
   "cell_type": "code",
   "execution_count": null,
   "id": "e6c023a4-76e1-4f3a-ade1-8c3c51992a65",
   "metadata": {},
   "outputs": [],
   "source": [
    "k8.read_namespaced_pod_status(\"hello-node-7884b68c89-9fz6h\", 'default')"
   ]
  },
  {
   "cell_type": "code",
   "execution_count": null,
   "id": "e2afb101-55b6-4fbe-9c19-94d300a37433",
   "metadata": {},
   "outputs": [],
   "source": [
    "k8.delete_namespaced_service(\"servicename\", 'default')"
   ]
  },
  {
   "cell_type": "code",
   "execution_count": null,
   "id": "ca2e62fd-e890-4238-9e6b-33677f9935fb",
   "metadata": {},
   "outputs": [],
   "source": []
  },
  {
   "cell_type": "code",
   "execution_count": null,
   "id": "074cab2f-2186-46de-b6cd-231171f1bd44",
   "metadata": {},
   "outputs": [],
   "source": []
  },
  {
   "cell_type": "markdown",
   "id": "ae8c71c3-754a-40fb-b37e-4ae763163ab0",
   "metadata": {},
   "source": [
    "## Direct pg_store access."
   ]
  },
  {
   "cell_type": "code",
   "execution_count": null,
   "id": "94901554-6ca8-402a-b4f0-2edc5df223ba",
   "metadata": {},
   "outputs": [],
   "source": [
    "from stores import pg_store\n",
    "engine = pg_store['tacc']['tacc'].engine"
   ]
  },
  {
   "cell_type": "code",
   "execution_count": null,
   "id": "a8c0b20c-736b-4ebb-9ed3-403d59d4b6a8",
   "metadata": {},
   "outputs": [],
   "source": [
    "with Session(engine) as session:\n",
    "    res = session.execute('SELECT * FROM pods')"
   ]
  },
  {
   "cell_type": "code",
   "execution_count": null,
   "id": "4aee119c-2974-4c3a-9ce2-7c687df70cab",
   "metadata": {},
   "outputs": [],
   "source": [
    "with Session(engine) as session:\n",
    "    j = session.execute('CREATE SCHEMA IF NOT EXISTS \"icicle\"')"
   ]
  },
  {
   "cell_type": "code",
   "execution_count": null,
   "id": "b34aed4c-60e4-4674-b4fb-6c3bc9ce62f0",
   "metadata": {},
   "outputs": [],
   "source": [
    "pg_store['tacc']['tacc'].run(\"CREATE DATABASE uh\", autocommit=True)"
   ]
  },
  {
   "cell_type": "code",
   "execution_count": null,
   "id": "835b881c-d529-474d-8024-da7be9a19a36",
   "metadata": {},
   "outputs": [],
   "source": []
  },
  {
   "cell_type": "code",
   "execution_count": null,
   "id": "4c82ef3a-0e95-4b4f-a604-c003102d7794",
   "metadata": {},
   "outputs": [],
   "source": []
  }
 ],
 "metadata": {
  "kernelspec": {
   "display_name": "Python 3 (ipykernel)",
   "language": "python",
   "name": "python3"
  },
  "language_info": {
   "codemirror_mode": {
    "name": "ipython",
    "version": 3
   },
   "file_extension": ".py",
   "mimetype": "text/x-python",
   "name": "python",
   "nbconvert_exporter": "python",
   "pygments_lexer": "ipython3",
   "version": "3.10.4"
  }
 },
 "nbformat": 4,
 "nbformat_minor": 5
}
